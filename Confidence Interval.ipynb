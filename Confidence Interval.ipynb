{
 "cells": [
  {
   "cell_type": "code",
   "id": "initial_id",
   "metadata": {
    "collapsed": true,
    "ExecuteTime": {
     "end_time": "2025-10-18T11:56:47.411Z",
     "start_time": "2025-10-18T11:56:47.408529Z"
    }
   },
   "source": [
    "import numpy as np\n",
    "from scipy import stats\n",
    "import matplotlib.pyplot as plt"
   ],
   "outputs": [],
   "execution_count": 21
  },
  {
   "metadata": {},
   "cell_type": "markdown",
   "source": "# t-distribution",
   "id": "5a59761ceb3e7dc4"
  },
  {
   "metadata": {
    "ExecuteTime": {
     "end_time": "2025-10-18T11:56:47.436337Z",
     "start_time": "2025-10-18T11:56:47.433549Z"
    }
   },
   "cell_type": "code",
   "source": [
    "data = np.array([51, 49, 52, 50, 48, 47, 53, 49, 50, 52])\n",
    "n = len(data)\n",
    "s = np.std(data, ddof=1)\n",
    "x = np.mean(data)"
   ],
   "id": "c0f409213f520ca6",
   "outputs": [],
   "execution_count": 22
  },
  {
   "metadata": {
    "ExecuteTime": {
     "end_time": "2025-10-18T11:56:47.443490Z",
     "start_time": "2025-10-18T11:56:47.441064Z"
    }
   },
   "cell_type": "code",
   "source": [
    "confidence = 0.95\n",
    "alpha = 1-confidence\n",
    "df = n-1"
   ],
   "id": "c28be5b289aa154f",
   "outputs": [],
   "execution_count": 23
  },
  {
   "metadata": {
    "ExecuteTime": {
     "end_time": "2025-10-18T11:56:47.451620Z",
     "start_time": "2025-10-18T11:56:47.448956Z"
    }
   },
   "cell_type": "code",
   "source": [
    "t_crit = stats.t.ppf(1 - alpha/2, df)\n",
    "margin_error = t_crit * (s / np.sqrt(n))"
   ],
   "id": "158f126281a76bd9",
   "outputs": [],
   "execution_count": 24
  },
  {
   "metadata": {
    "ExecuteTime": {
     "end_time": "2025-10-18T11:56:47.460385Z",
     "start_time": "2025-10-18T11:56:47.457566Z"
    }
   },
   "cell_type": "code",
   "source": [
    "print('t_crit, critical value= ', t_crit)\n",
    "print('margin of error= ', margin_error)\n",
    "print('mean= ', x)\n",
    "print('std= ', s)"
   ],
   "id": "42431dce21254407",
   "outputs": [
    {
     "name": "stdout",
     "output_type": "stream",
     "text": [
      "t_crit, critical value=  2.2621571628540993\n",
      "margin of error=  1.3677271514327634\n",
      "mean=  50.1\n",
      "std=  1.911950719959998\n"
     ]
    }
   ],
   "execution_count": 25
  },
  {
   "metadata": {
    "ExecuteTime": {
     "end_time": "2025-10-18T11:56:47.479347Z",
     "start_time": "2025-10-18T11:56:47.476471Z"
    }
   },
   "cell_type": "code",
   "source": "print('CI = ', round(x-margin_error,2), round(x+margin_error,2))",
   "id": "1b31b0616c1a7712",
   "outputs": [
    {
     "name": "stdout",
     "output_type": "stream",
     "text": [
      "CI =  48.73 51.47\n"
     ]
    }
   ],
   "execution_count": 26
  },
  {
   "metadata": {
    "ExecuteTime": {
     "end_time": "2025-10-18T12:06:14.113215Z",
     "start_time": "2025-10-18T12:06:14.109823Z"
    }
   },
   "cell_type": "code",
   "source": [
    "ci = stats.t.interval(confidence,df=n-1,loc=x, scale=s/np.sqrt(n))\n",
    "print(ci)"
   ],
   "id": "f3ecda0ce1bc266a",
   "outputs": [
    {
     "name": "stdout",
     "output_type": "stream",
     "text": [
      "(np.float64(48.73227284856724), np.float64(51.46772715143276))\n"
     ]
    }
   ],
   "execution_count": 30
  },
  {
   "metadata": {},
   "cell_type": "code",
   "outputs": [],
   "execution_count": null,
   "source": "",
   "id": "9492315d9de6a4a4"
  },
  {
   "metadata": {},
   "cell_type": "markdown",
   "source": "# z-distribution",
   "id": "b7b2ddc7a0d0b3f8"
  },
  {
   "metadata": {
    "ExecuteTime": {
     "end_time": "2025-10-18T12:21:03.368149Z",
     "start_time": "2025-10-18T12:21:03.365571Z"
    }
   },
   "cell_type": "code",
   "source": [
    "mu = 100\n",
    "sigma = 15\n",
    "n = 36\n",
    "confidence = 0.95\n",
    "alpha = 1-confidence"
   ],
   "id": "28b60a8569fb78e4",
   "outputs": [],
   "execution_count": 32
  },
  {
   "metadata": {
    "ExecuteTime": {
     "end_time": "2025-10-18T12:22:05.357850Z",
     "start_time": "2025-10-18T12:22:05.354751Z"
    }
   },
   "cell_type": "code",
   "source": "z_crit = stats.norm.ppf(1 - alpha/2)",
   "id": "cd4c2e683590ecae",
   "outputs": [],
   "execution_count": 33
  },
  {
   "metadata": {
    "ExecuteTime": {
     "end_time": "2025-10-18T12:22:54.930251Z",
     "start_time": "2025-10-18T12:22:54.927772Z"
    }
   },
   "cell_type": "code",
   "source": "SE = sigma/(np.sqrt(n))",
   "id": "3bce7b9ed2124d3c",
   "outputs": [],
   "execution_count": 34
  },
  {
   "metadata": {
    "ExecuteTime": {
     "end_time": "2025-10-18T12:23:34.162865Z",
     "start_time": "2025-10-18T12:23:34.160280Z"
    }
   },
   "cell_type": "code",
   "source": "marg_error = z_crit * SE",
   "id": "9b87534f03ceafb2",
   "outputs": [],
   "execution_count": 35
  },
  {
   "metadata": {
    "ExecuteTime": {
     "end_time": "2025-10-18T12:24:06.804337Z",
     "start_time": "2025-10-18T12:24:06.801240Z"
    }
   },
   "cell_type": "code",
   "source": [
    "ci = (mu - marg_error, mu + marg_error)\n",
    "print(ci)"
   ],
   "id": "5e67f5a37a0ba10",
   "outputs": [
    {
     "name": "stdout",
     "output_type": "stream",
     "text": [
      "(np.float64(95.10009003864987), np.float64(104.89990996135013))\n"
     ]
    }
   ],
   "execution_count": 36
  },
  {
   "metadata": {
    "ExecuteTime": {
     "end_time": "2025-10-18T12:29:28.936651Z",
     "start_time": "2025-10-18T12:29:28.933481Z"
    }
   },
   "cell_type": "code",
   "source": "ci2 = stats.norm.interval(confidence, loc=mu, scale=sigma/np.sqrt(n))",
   "id": "d54011792994eae4",
   "outputs": [],
   "execution_count": 37
  },
  {
   "metadata": {
    "ExecuteTime": {
     "end_time": "2025-10-18T12:29:33.247763Z",
     "start_time": "2025-10-18T12:29:33.244957Z"
    }
   },
   "cell_type": "code",
   "source": "print(ci2)",
   "id": "9b09e142982ae055",
   "outputs": [
    {
     "name": "stdout",
     "output_type": "stream",
     "text": [
      "(np.float64(95.10009003864987), np.float64(104.89990996135013))\n"
     ]
    }
   ],
   "execution_count": 38
  },
  {
   "metadata": {
    "ExecuteTime": {
     "end_time": "2025-10-18T12:51:46.966316Z",
     "start_time": "2025-10-18T12:51:46.961126Z"
    }
   },
   "cell_type": "code",
   "source": "",
   "id": "7fcf0cbe2517fd1f",
   "outputs": [
    {
     "data": {
      "text/plain": [
       "21.599999999999998"
      ]
     },
     "execution_count": 39,
     "metadata": {},
     "output_type": "execute_result"
    }
   ],
   "execution_count": 39
  },
  {
   "metadata": {},
   "cell_type": "code",
   "outputs": [],
   "execution_count": null,
   "source": "",
   "id": "e1eb690115d75dc8"
  },
  {
   "metadata": {},
   "cell_type": "markdown",
   "source": "# CI for Independent Samples",
   "id": "4274da198694d28e"
  },
  {
   "metadata": {
    "ExecuteTime": {
     "end_time": "2025-10-18T14:14:09.679808Z",
     "start_time": "2025-10-18T14:14:09.675659Z"
    }
   },
   "cell_type": "code",
   "source": [
    "def independent_samples_CI(group1, group2, confidence=0.95):\n",
    "    #Convert to numpy arrays\n",
    "    group1 = np.array(group1)\n",
    "    group2 = np.array(group2)\n",
    "\n",
    "    #Sample statistics\n",
    "    mean1, mean2 = np.mean(group1), np.mean(group2)\n",
    "    var1, var2 = np.var(group1, ddof=1), np.var(group2, ddof=1)\n",
    "    n1, n2 = len(group1), len(group2)\n",
    "    mean_diff = mean2 - mean1\n",
    "\n",
    "    #Standard error of difference\n",
    "    se_diff = np.sqrt(var1/n1 + var2/n2)\n",
    "\n",
    "    #Degrees of freedom\n",
    "    df = (var1/n1 + var2/n2)**2 / ((var1/n1)**2/(n1-1) + (var2/n2)**2/(n2-1))\n",
    "\n",
    "    #t critical value\n",
    "    alpha = 1-confidence\n",
    "    t_crit = stats.t.ppf(1-alpha/2, df)\n",
    "\n",
    "    #Margin of error\n",
    "    margin = t_crit + se_diff\n",
    "\n",
    "    #Confidence Interval\n",
    "    ci = (mean_diff - margin, mean_diff + margin)\n",
    "\n",
    "    #t-test\n",
    "    t_stat, p_value = stats.ttest_ind(group1, group2, equal_var=False)\n",
    "\n",
    "    return {\n",
    "        't_stat: ': round(t_stat,2),\n",
    "        'p_value ': round(p_value,3),\n",
    "        'mean_difference ': round(mean_diff,2),\n",
    "        'CI ': ci\n",
    "    }\n"
   ],
   "id": "21c505c6988d1e6f",
   "outputs": [],
   "execution_count": 55
  },
  {
   "metadata": {
    "ExecuteTime": {
     "end_time": "2025-10-18T14:14:23.794700Z",
     "start_time": "2025-10-18T14:14:23.790312Z"
    }
   },
   "cell_type": "code",
   "source": [
    "group1 = [34,45,33,42,12,15]\n",
    "group2 = [11,24,57,55,43,65]\n",
    "result = independent_samples_CI(group1, group2, confidence=.95)\n",
    "\n",
    "print(result)"
   ],
   "id": "55731cca88ea4f66",
   "outputs": [
    {
     "name": "stdout",
     "output_type": "stream",
     "text": [
      "{'t_stat: ': np.float64(-1.2), 'p_value ': np.float64(0.261), 'mean_difference ': np.float64(12.33), 'CI ': (np.float64(-0.1919429964790016), np.float64(24.858609663145664))}\n"
     ]
    }
   ],
   "execution_count": 57
  },
  {
   "metadata": {},
   "cell_type": "code",
   "outputs": [],
   "execution_count": null,
   "source": "",
   "id": "dcd324b81f1dfc52"
  }
 ],
 "metadata": {
  "kernelspec": {
   "display_name": "Python 3",
   "language": "python",
   "name": "python3"
  },
  "language_info": {
   "codemirror_mode": {
    "name": "ipython",
    "version": 2
   },
   "file_extension": ".py",
   "mimetype": "text/x-python",
   "name": "python",
   "nbconvert_exporter": "python",
   "pygments_lexer": "ipython2",
   "version": "2.7.6"
  }
 },
 "nbformat": 4,
 "nbformat_minor": 5
}
