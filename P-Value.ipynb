{
 "cells": [
  {
   "metadata": {
    "ExecuteTime": {
     "end_time": "2025-10-22T14:28:04.913207Z",
     "start_time": "2025-10-22T14:28:03.436827Z"
    }
   },
   "cell_type": "code",
   "source": [
    "import numpy as np\n",
    "from scipy import stats\n",
    "import matplotlib.pyplot as plt"
   ],
   "id": "9c4dee1c3415a13c",
   "outputs": [],
   "execution_count": 52
  },
  {
   "metadata": {
    "ExecuteTime": {
     "end_time": "2025-10-22T11:13:54.395428Z",
     "start_time": "2025-10-22T11:13:54.393884Z"
    }
   },
   "cell_type": "code",
   "source": "",
   "id": "952aaebf85933be8",
   "outputs": [],
   "execution_count": null
  },
  {
   "metadata": {},
   "cell_type": "code",
   "outputs": [],
   "execution_count": null,
   "source": "",
   "id": "c2bf22251beec50f"
  },
  {
   "metadata": {
    "ExecuteTime": {
     "end_time": "2025-10-22T11:14:14.237992Z",
     "start_time": "2025-10-22T11:14:14.234595Z"
    }
   },
   "cell_type": "code",
   "source": [
    "m0 = 355\n",
    "x = 357\n",
    "s = 93.52   # example standard deviation\n",
    "n = 95\n",
    "alpha = 0.1\n",
    "\n",
    "# t-statistic formula\n",
    "t_stat = (x - m0) / (s / np.sqrt(n))\n",
    "\n",
    "# degrees of freedom\n",
    "dof = n - 1\n",
    "\n",
    "# two-tailed p-value\n",
    "p_value = 2 * (1 - stats.t.cdf(abs(t_stat), df=dof))\n",
    "\n",
    "print('t_statistic =', t_stat)\n",
    "print('p_value =', p_value)"
   ],
   "id": "3696407126c4a4f3",
   "outputs": [
    {
     "name": "stdout",
     "output_type": "stream",
     "text": [
      "t_statistic = 0.2084429928316716\n",
      "p_value = 0.8353340853753775\n"
     ]
    }
   ],
   "execution_count": 6
  },
  {
   "metadata": {},
   "cell_type": "code",
   "outputs": [],
   "execution_count": null,
   "source": "",
   "id": "362ffc548dfe1159"
  },
  {
   "metadata": {
    "ExecuteTime": {
     "end_time": "2025-10-22T11:35:24.086852Z",
     "start_time": "2025-10-22T11:35:24.083291Z"
    }
   },
   "cell_type": "code",
   "source": [
    "m0 = 300\n",
    "x = 289.3\n",
    "s = 93.52   # example standard deviation\n",
    "n = 95\n",
    "alpha = 0.1\n",
    "\n",
    "# t-statistic formula\n",
    "t_stat = (x - m0) / (s / np.sqrt(n))\n",
    "\n",
    "# degrees of freedom\n",
    "dof = n - 1\n",
    "\n",
    "# two-tailed p-value using survival function (no subtraction from 1)\n",
    "p_value = 2 * stats.t.sf(abs(t_stat), df=dof)\n",
    "\n",
    "print('t_statistic =', t_stat)\n",
    "print('p_value =', p_value)"
   ],
   "id": "de62969d6510ab23",
   "outputs": [
    {
     "name": "stdout",
     "output_type": "stream",
     "text": [
      "t_statistic = -1.1151700116494419\n",
      "p_value = 0.2676205064863819\n"
     ]
    }
   ],
   "execution_count": 12
  },
  {
   "metadata": {
    "ExecuteTime": {
     "end_time": "2025-10-22T11:35:24.605724Z",
     "start_time": "2025-10-22T11:35:24.602591Z"
    }
   },
   "cell_type": "code",
   "source": "s / np.sqrt(n)",
   "id": "f913eeec6f05bd77",
   "outputs": [
    {
     "data": {
      "text/plain": [
       "np.float64(9.594949548700361)"
      ]
     },
     "execution_count": 13,
     "metadata": {},
     "output_type": "execute_result"
    }
   ],
   "execution_count": 13
  },
  {
   "metadata": {},
   "cell_type": "code",
   "outputs": [],
   "execution_count": null,
   "source": "",
   "id": "5aa3cf1e943d3944"
  },
  {
   "metadata": {},
   "cell_type": "markdown",
   "source": "## Hypothesis test excel Maven",
   "id": "930a0562b99b5a97"
  },
  {
   "metadata": {
    "ExecuteTime": {
     "end_time": "2025-10-22T13:40:11.170157Z",
     "start_time": "2025-10-22T13:40:11.167072Z"
    }
   },
   "cell_type": "code",
   "source": [
    "n = 95.0\n",
    "s = 6.17\n",
    "alpha = 0.2\n",
    "x = 80.2\n",
    "m0 = 80.0\n",
    "df = n - 1\n",
    "t = (x - m0) / (s / np.sqrt(n))"
   ],
   "id": "23fed7d5d829fea5",
   "outputs": [],
   "execution_count": 28
  },
  {
   "metadata": {
    "ExecuteTime": {
     "end_time": "2025-10-22T13:40:11.712177Z",
     "start_time": "2025-10-22T13:40:11.709424Z"
    }
   },
   "cell_type": "code",
   "source": "print(t)",
   "id": "2a42845b5dd27d8e",
   "outputs": [
    {
     "name": "stdout",
     "output_type": "stream",
     "text": [
      "0.31594146984794497\n"
     ]
    }
   ],
   "execution_count": 29
  },
  {
   "metadata": {
    "ExecuteTime": {
     "end_time": "2025-10-22T13:42:49.347102Z",
     "start_time": "2025-10-22T13:42:49.344420Z"
    }
   },
   "cell_type": "code",
   "source": "p_value = 2.0 * (stats.t.sf(t, df= df))",
   "id": "180c4ad873e6cc18",
   "outputs": [],
   "execution_count": 46
  },
  {
   "metadata": {
    "ExecuteTime": {
     "end_time": "2025-10-22T13:40:50.442655Z",
     "start_time": "2025-10-22T13:40:50.439745Z"
    }
   },
   "cell_type": "code",
   "source": "print(p_value)",
   "id": "5a92115dfcac4973",
   "outputs": [
    {
     "name": "stdout",
     "output_type": "stream",
     "text": [
      "0.752747377732773\n"
     ]
    }
   ],
   "execution_count": 38
  },
  {
   "metadata": {
    "ExecuteTime": {
     "end_time": "2025-10-22T13:40:51.055927Z",
     "start_time": "2025-10-22T13:40:51.052800Z"
    }
   },
   "cell_type": "code",
   "source": "p_value > alpha",
   "id": "faaafe354c2f8e62",
   "outputs": [
    {
     "data": {
      "text/plain": [
       "np.True_"
      ]
     },
     "execution_count": 39,
     "metadata": {},
     "output_type": "execute_result"
    }
   ],
   "execution_count": 39
  },
  {
   "metadata": {
    "ExecuteTime": {
     "end_time": "2025-10-22T13:40:51.406766Z",
     "start_time": "2025-10-22T13:40:51.404399Z"
    }
   },
   "cell_type": "code",
   "source": "std = s / np.sqrt(n)",
   "id": "ff631eeb464ff933",
   "outputs": [],
   "execution_count": 40
  },
  {
   "metadata": {},
   "cell_type": "code",
   "outputs": [],
   "execution_count": null,
   "source": "",
   "id": "7dcf400d72623ab0"
  },
  {
   "metadata": {
    "ExecuteTime": {
     "end_time": "2025-10-22T13:40:51.677878Z",
     "start_time": "2025-10-22T13:40:51.675352Z"
    }
   },
   "cell_type": "code",
   "source": "print(std)",
   "id": "4321e8eb9173c854",
   "outputs": [
    {
     "name": "stdout",
     "output_type": "stream",
     "text": [
      "0.6330286432365401\n"
     ]
    }
   ],
   "execution_count": 41
  },
  {
   "metadata": {
    "ExecuteTime": {
     "end_time": "2025-10-22T13:40:51.925748Z",
     "start_time": "2025-10-22T13:40:51.923307Z"
    }
   },
   "cell_type": "code",
   "source": "test_t = (x-m0)/std",
   "id": "d34bb0a84fb37c2f",
   "outputs": [],
   "execution_count": 42
  },
  {
   "metadata": {
    "ExecuteTime": {
     "end_time": "2025-10-22T13:40:52.160865Z",
     "start_time": "2025-10-22T13:40:52.158108Z"
    }
   },
   "cell_type": "code",
   "source": "print(test_t)",
   "id": "2538fc4425212873",
   "outputs": [
    {
     "name": "stdout",
     "output_type": "stream",
     "text": [
      "0.31594146984794497\n"
     ]
    }
   ],
   "execution_count": 43
  },
  {
   "metadata": {
    "ExecuteTime": {
     "end_time": "2025-10-22T13:49:06.886795Z",
     "start_time": "2025-10-22T13:49:06.883111Z"
    }
   },
   "cell_type": "code",
   "source": "stats.t.interval(0.8,df=n-1,loc=x,scale=s/np.sqrt(n))",
   "id": "c76e3221eb15c80b",
   "outputs": [
    {
     "data": {
      "text/plain": [
       "(np.float64(79.38299885820003), np.float64(81.01700114179998))"
      ]
     },
     "execution_count": 49,
     "metadata": {},
     "output_type": "execute_result"
    }
   ],
   "execution_count": 49
  },
  {
   "metadata": {},
   "cell_type": "code",
   "outputs": [],
   "execution_count": null,
   "source": "",
   "id": "904a51666ae37161"
  },
  {
   "metadata": {},
   "cell_type": "markdown",
   "source": "## Visual 3 types of hypothesis tests",
   "id": "93a59d4ecfe15652"
  },
  {
   "metadata": {
    "ExecuteTime": {
     "end_time": "2025-10-22T14:35:18.994242Z",
     "start_time": "2025-10-22T14:35:18.985775Z"
    }
   },
   "cell_type": "code",
   "source": [
    "def compare_tailed_ttests(data, popmean, alpha=0.05):\n",
    "    t_stat, p_val_two = stats.ttest_1samp(data, popmean)\n",
    "    df = len(data) - 1\n",
    "\n",
    "    # Critical values\n",
    "    t_crit_two = stats.t.ppf(1 - alpha/2, df)\n",
    "    t_crit_left = stats.t.ppf(alpha, df)\n",
    "    t_crit_right = stats.t.ppf(1 - alpha, df)\n",
    "\n",
    "    # p-values\n",
    "    p_left = p_val_two / 2 if t_stat < 0 else 1 - (p_val_two / 2)\n",
    "    p_right = p_val_two / 2 if t_stat > 0 else 1 - (p_val_two / 2)\n",
    "    p_two = p_val_two\n",
    "\n",
    "    # X values for t-distribution\n",
    "    x = np.linspace(-4, 4, 400)\n",
    "    y = stats.t.pdf(x, df)\n",
    "\n",
    "    fig, axes = plt.subplots(1, 3, figsize=(18, 5))\n",
    "\n",
    "    # --- Two-tailed ---\n",
    "    axes[0].plot(x, y, 'b')\n",
    "    axes[0].fill_between(x, y, where=(x <= -t_crit_two) | (x >= t_crit_two), color='red', alpha=0.3)\n",
    "    axes[0].axvline(t_stat, color='green', linestyle='--', label=f't = {t_stat:.2f}')\n",
    "    axes[0].set_title(\"Two-tailed test\")\n",
    "    axes[0].legend()\n",
    "\n",
    "    # --- Left-tailed ---\n",
    "    axes[1].plot(x, y, 'b')\n",
    "    axes[1].fill_between(x, y, where=(x <= t_crit_left), color='red', alpha=0.3)\n",
    "    axes[1].axvline(t_stat, color='green', linestyle='--', label=f't = {t_stat:.2f}')\n",
    "    axes[1].set_title(\"Left-tailed test\")\n",
    "    axes[1].legend()\n",
    "\n",
    "    # --- Right-tailed ---\n",
    "    axes[2].plot(x, y, 'b')\n",
    "    axes[2].fill_between(x, y, where=(x >= t_crit_right), color='red', alpha=0.3)\n",
    "    axes[2].axvline(t_stat, color='green', linestyle='--', label=f't = {t_stat:.2f}')\n",
    "    axes[2].set_title(\"Right-tailed test\")\n",
    "    axes[2].legend()\n",
    "\n",
    "    plt.suptitle(\"Comparison of Two-Tailed, Left-Tailed, and Right-Tailed t-tests\", fontsize=14)\n",
    "    plt.tight_layout(rect=[0, 0, 1, 0.95])\n",
    "    plt.show()\n",
    "\n",
    "    # Results\n",
    "    results = {\n",
    "        \"Two-tailed\": {\"t-statistic\": t_stat, \"p-value\": p_two, \"alpha\": alpha, \"Conclusion\": \"Reject H₀\" if p_two < alpha else \"Fail to Reject H₀\"},\n",
    "        \"Left-tailed\": {\"t-statistic\": t_stat, \"p-value\": p_left, \"alpha\": alpha,\"Conclusion\": \"Reject H₀\" if (p_left < alpha and t_stat < 0) else \"Fail to Reject H₀\"},\n",
    "        \"Right-tailed\": {\"t-statistic\": t_stat, \"p-value\": p_right, \"alpha\": alpha,\"Conclusion\": \"Reject H₀\" if (p_right < alpha and t_stat > 0) else \"Fail to Reject H₀\"},\n",
    "    }\n",
    "\n",
    "    return results"
   ],
   "id": "c931221ad78714c3",
   "outputs": [],
   "execution_count": 54
  },
  {
   "metadata": {
    "ExecuteTime": {
     "end_time": "2025-10-22T14:35:19.933978Z",
     "start_time": "2025-10-22T14:35:19.617215Z"
    }
   },
   "cell_type": "code",
   "source": [
    "data = [2.1, 2.5, 1.9, 2.3, 2.7]\n",
    "popmean = 2\n",
    "\n",
    "results = compare_tailed_ttests(data, popmean)\n",
    "for test_type, outcome in results.items():\n",
    "    print(f\"\\n{test_type} Test:\")\n",
    "    for key, value in outcome.items():\n",
    "        print(f\"  {key}: {value}\")"
   ],
   "id": "7a7fa4da9e2b9a69",
   "outputs": [
    {
     "data": {
      "text/plain": [
       "<Figure size 1800x500 with 3 Axes>"
      ],
      "image/png": "[encoded data removed]"
     },
     "metadata": {},
     "output_type": "display_data"
    },
    {
     "name": "stdout",
     "output_type": "stream",
     "text": [
      "\n",
      "Two-tailed Test:\n",
      "  t-statistic: 2.121320343559641\n",
      "  p-value: 0.1011915072182956\n",
      "  alpha: 0.05\n",
      "  Conclusion: Fail to Reject H₀\n",
      "\n",
      "Left-tailed Test:\n",
      "  t-statistic: 2.121320343559641\n",
      "  p-value: 0.9494042463908522\n",
      "  alpha: 0.05\n",
      "  Conclusion: Fail to Reject H₀\n",
      "\n",
      "Right-tailed Test:\n",
      "  t-statistic: 2.121320343559641\n",
      "  p-value: 0.0505957536091478\n",
      "  alpha: 0.05\n",
      "  Conclusion: Fail to Reject H₀\n"
     ]
    }
   ],
   "execution_count": 55
  },
  {
   "metadata": {},
   "cell_type": "code",
   "outputs": [],
   "execution_count": null,
   "source": "",
   "id": "b6210858d42a669d"
  },
  {
   "metadata": {},
   "cell_type": "markdown",
   "source": "## EXCEL MAVEN ASSIGNMENT (Hypothesis Test p)",
   "id": "3ca9c460b265323e"
  },
  {
   "metadata": {
    "ExecuteTime": {
     "end_time": "2025-10-22T14:54:57.339264Z",
     "start_time": "2025-10-22T14:54:57.336782Z"
    }
   },
   "cell_type": "code",
   "source": [
    "n=53\n",
    "p=0.6415\n",
    "p0 = 0.5\n",
    "confidence = 0.95\n",
    "alpha = 1-confidence\n"
   ],
   "id": "61bd86fc702949ae",
   "outputs": [],
   "execution_count": 64
  },
  {
   "metadata": {
    "ExecuteTime": {
     "end_time": "2025-10-22T14:52:58.327582Z",
     "start_time": "2025-10-22T14:52:58.324646Z"
    }
   },
   "cell_type": "code",
   "source": [
    "SE = np.sqrt(p*(1-p)/n)\n",
    "print(SE)"
   ],
   "id": "688add87ca5cb2aa",
   "outputs": [
    {
     "name": "stdout",
     "output_type": "stream",
     "text": [
      "0.06587262580305023\n"
     ]
    }
   ],
   "execution_count": 62
  },
  {
   "metadata": {
    "ExecuteTime": {
     "end_time": "2025-10-22T14:50:58.670823Z",
     "start_time": "2025-10-22T14:50:58.668158Z"
    }
   },
   "cell_type": "code",
   "source": [
    "z_crit = stats.norm.ppf(1-alpha/2)\n",
    "print(z_crit)"
   ],
   "id": "d88b0f2e22378041",
   "outputs": [
    {
     "name": "stdout",
     "output_type": "stream",
     "text": [
      "1.2815515655446004\n"
     ]
    }
   ],
   "execution_count": 60
  },
  {
   "metadata": {
    "ExecuteTime": {
     "end_time": "2025-10-22T14:51:30.465341Z",
     "start_time": "2025-10-22T14:51:30.462376Z"
    }
   },
   "cell_type": "code",
   "source": [
    "margin = z_crit * SE\n",
    "print(margin)"
   ],
   "id": "8beb21940f4a14b0",
   "outputs": [
    {
     "name": "stdout",
     "output_type": "stream",
     "text": [
      "0.08441916672443266\n"
     ]
    }
   ],
   "execution_count": 61
  },
  {
   "metadata": {
    "ExecuteTime": {
     "end_time": "2025-10-22T14:55:00.000691Z",
     "start_time": "2025-10-22T14:54:59.998192Z"
    }
   },
   "cell_type": "code",
   "source": "Z = (p-p0) / SE",
   "id": "e313e0aed1bf135a",
   "outputs": [],
   "execution_count": 65
  },
  {
   "metadata": {
    "ExecuteTime": {
     "end_time": "2025-10-22T14:55:08.469775Z",
     "start_time": "2025-10-22T14:55:08.466677Z"
    }
   },
   "cell_type": "code",
   "source": "print(Z)",
   "id": "1f56fbce961cf44f",
   "outputs": [
    {
     "name": "stdout",
     "output_type": "stream",
     "text": [
      "2.1480850091366452\n"
     ]
    }
   ],
   "execution_count": 67
  },
  {
   "metadata": {
    "ExecuteTime": {
     "end_time": "2025-10-22T14:57:58.334008Z",
     "start_time": "2025-10-22T14:57:58.330696Z"
    }
   },
   "cell_type": "code",
   "source": [
    "\n",
    "# two-tailed p-value\n",
    "p_value = 2 * (1 - stats.norm.cdf(abs(Z)))"
   ],
   "id": "558d3009db5e9a46",
   "outputs": [],
   "execution_count": 68
  },
  {
   "metadata": {
    "ExecuteTime": {
     "end_time": "2025-10-22T14:58:04.239960Z",
     "start_time": "2025-10-22T14:58:04.237289Z"
    }
   },
   "cell_type": "code",
   "source": "print(p_value)",
   "id": "f65695f27117b862",
   "outputs": [
    {
     "name": "stdout",
     "output_type": "stream",
     "text": [
      "0.03170700288495332\n"
     ]
    }
   ],
   "execution_count": 69
  },
  {
   "metadata": {
    "ExecuteTime": {
     "end_time": "2025-10-22T14:58:40.318830Z",
     "start_time": "2025-10-22T14:58:40.315638Z"
    }
   },
   "cell_type": "code",
   "source": "p_value < alpha",
   "id": "231e846464c88627",
   "outputs": [
    {
     "data": {
      "text/plain": [
       "np.True_"
      ]
     },
     "execution_count": 70,
     "metadata": {},
     "output_type": "execute_result"
    }
   ],
   "execution_count": 70
  },
  {
   "metadata": {},
   "cell_type": "code",
   "outputs": [],
   "execution_count": null,
   "source": "",
   "id": "ec5aef3a08a4283b"
  }
 ],
 "metadata": {
  "kernelspec": {
   "display_name": "Python 3",
   "language": "python",
   "name": "python3"
  },
  "language_info": {
   "codemirror_mode": {
    "name": "ipython",
    "version": 2
   },
   "file_extension": ".py",
   "mimetype": "text/x-python",
   "name": "python",
   "nbconvert_exporter": "python",
   "pygments_lexer": "ipython2",
   "version": "2.7.6"
  }
 },
 "nbformat": 4,
 "nbformat_minor": 5
}
