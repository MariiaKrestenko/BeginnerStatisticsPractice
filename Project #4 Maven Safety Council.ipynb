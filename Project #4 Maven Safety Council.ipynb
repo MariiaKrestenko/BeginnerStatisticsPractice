{
 "cells": [
  {
   "cell_type": "code",
   "id": "initial_id",
   "metadata": {
    "collapsed": true,
    "ExecuteTime": {
     "end_time": "2025-10-28T07:18:35.346043Z",
     "start_time": "2025-10-28T07:18:35.342843Z"
    }
   },
   "source": [
    "import numpy as np\n",
    "from scipy import stats\n",
    "import matplotlib.pyplot as plt\n",
    "import pandas as pd\n",
    "from sklearn.linear_model import LinearRegression"
   ],
   "outputs": [],
   "execution_count": 3
  },
  {
   "metadata": {
    "ExecuteTime": {
     "end_time": "2025-10-28T07:18:35.753773Z",
     "start_time": "2025-10-28T07:18:35.382887Z"
    }
   },
   "cell_type": "code",
   "source": [
    "\n",
    "car_speeds = pd.read_excel('data/Car_Speeds.xlsx')"
   ],
   "id": "ee60273c6f454ab2",
   "outputs": [],
   "execution_count": 4
  },
  {
   "metadata": {
    "ExecuteTime": {
     "end_time": "2025-10-28T07:18:35.792272Z",
     "start_time": "2025-10-28T07:18:35.759763Z"
    }
   },
   "cell_type": "code",
   "source": "car_speeds.head()",
   "id": "fbbc674a46fe8583",
   "outputs": [
    {
     "data": {
      "text/plain": [
       "   Before  Shortly After  After\n",
       "0      33             28     30\n",
       "1      34             24     30\n",
       "2      32             34     27\n",
       "3      32             34     30\n",
       "4      26             37     25"
      ],
      "text/html": [
       "<div>\n",
       "<style scoped>\n",
       "    .dataframe tbody tr th:only-of-type {\n",
       "        vertical-align: middle;\n",
       "    }\n",
       "\n",
       "    .dataframe tbody tr th {\n",
       "        vertical-align: top;\n",
       "    }\n",
       "\n",
       "    .dataframe thead th {\n",
       "        text-align: right;\n",
       "    }\n",
       "</style>\n",
       "<table border=\"1\" class=\"dataframe\">\n",
       "  <thead>\n",
       "    <tr style=\"text-align: right;\">\n",
       "      <th></th>\n",
       "      <th>Before</th>\n",
       "      <th>Shortly After</th>\n",
       "      <th>After</th>\n",
       "    </tr>\n",
       "  </thead>\n",
       "  <tbody>\n",
       "    <tr>\n",
       "      <th>0</th>\n",
       "      <td>33</td>\n",
       "      <td>28</td>\n",
       "      <td>30</td>\n",
       "    </tr>\n",
       "    <tr>\n",
       "      <th>1</th>\n",
       "      <td>34</td>\n",
       "      <td>24</td>\n",
       "      <td>30</td>\n",
       "    </tr>\n",
       "    <tr>\n",
       "      <th>2</th>\n",
       "      <td>32</td>\n",
       "      <td>34</td>\n",
       "      <td>27</td>\n",
       "    </tr>\n",
       "    <tr>\n",
       "      <th>3</th>\n",
       "      <td>32</td>\n",
       "      <td>34</td>\n",
       "      <td>30</td>\n",
       "    </tr>\n",
       "    <tr>\n",
       "      <th>4</th>\n",
       "      <td>26</td>\n",
       "      <td>37</td>\n",
       "      <td>25</td>\n",
       "    </tr>\n",
       "  </tbody>\n",
       "</table>\n",
       "</div>"
      ]
     },
     "execution_count": 5,
     "metadata": {},
     "output_type": "execute_result"
    }
   ],
   "execution_count": 5
  },
  {
   "metadata": {},
   "cell_type": "markdown",
   "source": "### Before - After",
   "id": "7bffe1ca4223f90b"
  },
  {
   "metadata": {
    "ExecuteTime": {
     "end_time": "2025-10-28T07:18:35.803593Z",
     "start_time": "2025-10-28T07:18:35.799878Z"
    }
   },
   "cell_type": "code",
   "source": [
    "sample1 = np.array(car_speeds.Before)\n",
    "sample2 = np.array(car_speeds.After)"
   ],
   "id": "e66ae4f60de4258a",
   "outputs": [],
   "execution_count": 6
  },
  {
   "metadata": {
    "ExecuteTime": {
     "end_time": "2025-10-28T07:18:35.833693Z",
     "start_time": "2025-10-28T07:18:35.827425Z"
    }
   },
   "cell_type": "code",
   "source": "stats.ttest_ind(car_speeds.Before, car_speeds.After, equal_var=False)",
   "id": "2b087969ce0e5066",
   "outputs": [
    {
     "data": {
      "text/plain": [
       "TtestResult(statistic=np.float64(0.09362656478753031), pvalue=np.float64(0.9255030856531453), df=np.float64(192.69109638490255))"
      ]
     },
     "execution_count": 7,
     "metadata": {},
     "output_type": "execute_result"
    }
   ],
   "execution_count": 7
  },
  {
   "metadata": {
    "ExecuteTime": {
     "end_time": "2025-10-28T07:18:35.861832Z",
     "start_time": "2025-10-28T07:18:35.857993Z"
    }
   },
   "cell_type": "code",
   "source": [
    "# Two-sample t-test (Welch's t-test, unequal variance)\n",
    "t_stat, p_value = stats.ttest_ind(sample1, sample2, equal_var=False)"
   ],
   "id": "ebbcfda6932f963",
   "outputs": [],
   "execution_count": 8
  },
  {
   "metadata": {
    "ExecuteTime": {
     "end_time": "2025-10-28T07:18:35.887227Z",
     "start_time": "2025-10-28T07:18:35.884208Z"
    }
   },
   "cell_type": "code",
   "source": [
    "print(\"t-statistic:\", t_stat)\n",
    "print(\"p-value:\", p_value)"
   ],
   "id": "f551f5d989cfae4e",
   "outputs": [
    {
     "name": "stdout",
     "output_type": "stream",
     "text": [
      "t-statistic: 0.09362656478753031\n",
      "p-value: 0.9255030856531453\n"
     ]
    }
   ],
   "execution_count": 9
  },
  {
   "metadata": {
    "ExecuteTime": {
     "end_time": "2025-10-28T07:18:35.916426Z",
     "start_time": "2025-10-28T07:18:35.914664Z"
    }
   },
   "cell_type": "code",
   "source": "",
   "id": "54662785339c8355",
   "outputs": [],
   "execution_count": null
  },
  {
   "metadata": {
    "ExecuteTime": {
     "end_time": "2025-10-28T07:18:35.959842Z",
     "start_time": "2025-10-28T07:18:35.958232Z"
    }
   },
   "cell_type": "code",
   "source": "",
   "id": "cdcf86fee5656055",
   "outputs": [],
   "execution_count": null
  },
  {
   "metadata": {},
   "cell_type": "markdown",
   "source": "### Before - Shortly After\n",
   "id": "fffb4805a5cd7d65"
  },
  {
   "metadata": {
    "ExecuteTime": {
     "end_time": "2025-10-28T07:18:36.002838Z",
     "start_time": "2025-10-28T07:18:35.999143Z"
    }
   },
   "cell_type": "code",
   "source": "sample3 = sample2 = np.array(car_speeds['Shortly After'])",
   "id": "f76603607ed7328b",
   "outputs": [],
   "execution_count": 10
  },
  {
   "metadata": {
    "ExecuteTime": {
     "end_time": "2025-10-28T07:18:36.027768Z",
     "start_time": "2025-10-28T07:18:36.024167Z"
    }
   },
   "cell_type": "code",
   "source": [
    "# Two-sample t-test (Welch's t-test, unequal variance)\n",
    "t_stat2, p_value2 = stats.ttest_ind(sample1, sample3, equal_var=False)"
   ],
   "id": "21365cec1f7b93f9",
   "outputs": [],
   "execution_count": 11
  },
  {
   "metadata": {
    "ExecuteTime": {
     "end_time": "2025-10-28T07:18:36.036565Z",
     "start_time": "2025-10-28T07:18:36.033773Z"
    }
   },
   "cell_type": "code",
   "source": [
    "print(\"t-statistic:\", t_stat2)\n",
    "print(\"p-value:\", p_value2)"
   ],
   "id": "abb13189f14c4627",
   "outputs": [
    {
     "name": "stdout",
     "output_type": "stream",
     "text": [
      "t-statistic: 3.776289694289302\n",
      "p-value: 0.0002106544305013898\n"
     ]
    }
   ],
   "execution_count": 12
  },
  {
   "metadata": {
    "ExecuteTime": {
     "end_time": "2025-10-28T07:18:36.067732Z",
     "start_time": "2025-10-28T07:18:36.066133Z"
    }
   },
   "cell_type": "code",
   "source": "",
   "id": "d7e1210f7bffa0bd",
   "outputs": [],
   "execution_count": null
  },
  {
   "metadata": {},
   "cell_type": "markdown",
   "source": "## ANOVA",
   "id": "4b04759a4dec13eb"
  },
  {
   "metadata": {
    "ExecuteTime": {
     "end_time": "2025-10-28T07:18:36.114716Z",
     "start_time": "2025-10-28T07:18:36.101387Z"
    }
   },
   "cell_type": "code",
   "source": "car_data = pd.read_excel('data/Car_Speeds.xlsx')",
   "id": "fc0305fa023a3c9e",
   "outputs": [],
   "execution_count": 13
  },
  {
   "metadata": {
    "ExecuteTime": {
     "end_time": "2025-10-28T07:18:36.127886Z",
     "start_time": "2025-10-28T07:18:36.125110Z"
    }
   },
   "cell_type": "code",
   "source": [
    "sample1 = np.array(car_data.Before)\n",
    "sample2 = np.array(car_data['Shortly After'])\n",
    "sample3 = np.array(car_data.After)"
   ],
   "id": "db6d63c87e52fe07",
   "outputs": [],
   "execution_count": 14
  },
  {
   "metadata": {
    "ExecuteTime": {
     "end_time": "2025-10-28T07:18:36.135960Z",
     "start_time": "2025-10-28T07:18:36.132918Z"
    }
   },
   "cell_type": "code",
   "source": "f_stat, p_value = stats.f_oneway(sample1, sample2, sample3)",
   "id": "a60db721a71387c4",
   "outputs": [],
   "execution_count": 15
  },
  {
   "metadata": {
    "ExecuteTime": {
     "end_time": "2025-10-28T07:18:36.144175Z",
     "start_time": "2025-10-28T07:18:36.141268Z"
    }
   },
   "cell_type": "code",
   "source": [
    "print('f_stat: ', f_stat)\n",
    "print('p_value: ', round(p_value,4))"
   ],
   "id": "bb439fa726e6b679",
   "outputs": [
    {
     "name": "stdout",
     "output_type": "stream",
     "text": [
      "f_stat:  10.087693115098231\n",
      "p_value:  0.0001\n"
     ]
    }
   ],
   "execution_count": 16
  },
  {
   "metadata": {
    "ExecuteTime": {
     "end_time": "2025-10-28T07:18:36.167126Z",
     "start_time": "2025-10-28T07:18:36.165683Z"
    }
   },
   "cell_type": "code",
   "source": "",
   "id": "7cf086acf27c513c",
   "outputs": [],
   "execution_count": null
  },
  {
   "metadata": {},
   "cell_type": "markdown",
   "source": "## Simple Linear Regression",
   "id": "9ac5dd854c462b17"
  },
  {
   "metadata": {
    "ExecuteTime": {
     "end_time": "2025-10-28T07:22:09.664076Z",
     "start_time": "2025-10-28T07:22:09.659744Z"
    }
   },
   "cell_type": "code",
   "source": [
    "x = sample1\n",
    "y = sample2\n",
    "\n",
    "model = LinearRegression()\n",
    "model.fit(x.reshape(-1, 1), y)\n",
    "y_pred = model.predict(x.reshape(-1, 1))\n",
    "\n",
    "lse = np.sum((y - y_pred)**2)\n",
    "print(model.intercept_)\n",
    "print(model.coef_[0])\n",
    "print(lse)"
   ],
   "id": "8cd95ea4242d5579",
   "outputs": [
    {
     "name": "stdout",
     "output_type": "stream",
     "text": [
      "26.888325921605794\n",
      "0.028857135914072553\n",
      "1443.3792860440813\n"
     ]
    }
   ],
   "execution_count": 21
  }
 ],
 "metadata": {
  "kernelspec": {
   "display_name": "Python 3",
   "language": "python",
   "name": "python3"
  },
  "language_info": {
   "codemirror_mode": {
    "name": "ipython",
    "version": 2
   },
   "file_extension": ".py",
   "mimetype": "text/x-python",
   "name": "python",
   "nbconvert_exporter": "python",
   "pygments_lexer": "ipython2",
   "version": "2.7.6"
  }
 },
 "nbformat": 4,
 "nbformat_minor": 5
}
